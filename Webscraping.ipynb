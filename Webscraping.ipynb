{
 "cells": [
  {
   "cell_type": "code",
   "execution_count": 1,
   "metadata": {},
   "outputs": [
    {
     "name": "stdout",
     "output_type": "stream",
     "text": [
      "Collecting selenium\n",
      "  Downloading selenium-3.141.0-py2.py3-none-any.whl (904 kB)\n",
      "\u001b[K     |████████████████████████████████| 904 kB 2.7 MB/s eta 0:00:01\n",
      "\u001b[?25hRequirement already satisfied: urllib3 in /home/lorak/anaconda3/lib/python3.7/site-packages (from selenium) (1.25.8)\n",
      "Installing collected packages: selenium\n",
      "Successfully installed selenium-3.141.0\n"
     ]
    }
   ],
   "source": [
    "! pip install selenium"
   ]
  },
  {
   "cell_type": "code",
   "execution_count": 3,
   "metadata": {},
   "outputs": [
    {
     "name": "stdout",
     "output_type": "stream",
     "text": [
      "Requirement already satisfied: beautifulsoup4 in /home/lorak/anaconda3/lib/python3.7/site-packages (4.8.2)\n",
      "Requirement already satisfied: soupsieve>=1.2 in /home/lorak/anaconda3/lib/python3.7/site-packages (from beautifulsoup4) (1.9.5)\n"
     ]
    }
   ],
   "source": [
    "! pip install beautifulsoup4"
   ]
  },
  {
   "cell_type": "code",
   "execution_count": 81,
   "metadata": {},
   "outputs": [],
   "source": [
    "from selenium import webdriver\n",
    "import bs4 as bs\n",
    "from bs4 import NavigableString \n",
    "import pandas as pd\n",
    "import urllib.request"
   ]
  },
  {
   "cell_type": "markdown",
   "metadata": {},
   "source": [
    "## Avoir toutes les expansions (pas encore formatter) "
   ]
  },
  {
   "cell_type": "code",
   "execution_count": 281,
   "metadata": {},
   "outputs": [],
   "source": [
    "source = urllib.request.urlopen('https://www.cardmarket.com/en/Magic/Products/Singles').read()\n",
    "soup = bs.BeautifulSoup(source,'lxml')\n"
   ]
  },
  {
   "cell_type": "code",
   "execution_count": 231,
   "metadata": {},
   "outputs": [],
   "source": [
    "source = urllib.request.urlopen('https://www.cardmarket.com/en/Magic/Products/Singles').read()\n",
    "soup = bs.BeautifulSoup(source,'lxml')\n",
    "\n",
    "end_url_by  = \"?idRarity=0&perSite=20\"\n",
    "\n",
    "start_expension_by = \"BagsExpansionAll\"\n",
    "finish_expension_by = \"NameExact\"\n",
    "\n",
    "all_expansions = soup.text[soup.text.find(start_expension_by):soup.text.find(finish_expension_by)][len(start_expension_by):]"
   ]
  },
  {
   "cell_type": "markdown",
   "metadata": {},
   "source": [
    "## Expansion magic 2015, getting all card urls "
   ]
  },
  {
   "cell_type": "code",
   "execution_count": 311,
   "metadata": {},
   "outputs": [],
   "source": [
    "pages = ([str(i) for i in range(0,15)])\n",
    "list_of_links = []\n",
    "\n",
    "for page in pages: \n",
    "    base_link = 'https://www.cardmarket.com/en/Magic/Products/Singles/Magic-2015?idCategory=1&idExpansion=1485&idRarity=0&site='\n",
    "    source = urllib.request.urlopen(base_link + page).read()\n",
    "    soup = bs.BeautifulSoup(source, 'lxml')\n",
    "    for link in soup.find_all('a', href=True):\n",
    "        if \"Magic-2015/\" in link['href']:\n",
    "            list_of_links.append(link['href']) "
   ]
  },
  {
   "cell_type": "code",
   "execution_count": 329,
   "metadata": {},
   "outputs": [],
   "source": [
    "df = pd.DataFrame()\n",
    "\n",
    "for link in list_of_links:\n",
    "    url = \"https://www.cardmarket.com/\" + link\n",
    "    source = urllib.request.urlopen(url).read()\n",
    "    soup = bs.BeautifulSoup(source,'lxml')\n",
    "\n",
    "    start_dates = '{\"type\":\"line\",\"data\":{\"labels\":['\n",
    "    end_dates = '],\"datasets\":[{\"label\":\"Avg. Sell Price\",\"data\":['\n",
    "\n",
    "    start_vals = '\"label\":\"Avg. Sell Price\",\"data\":['\n",
    "    end_vals = '],\"backgroundColor\"'\n",
    "\n",
    "    dates = soup.text[int(soup.text.find(start_dates)): int(soup.text.find(end_dates))][len(start_dates):].split(',')\n",
    "    price = soup.text[int(soup.text.find(start_vals)): int(soup.text.find(end_vals))][len(start_vals):].split(',')\n",
    "\n",
    "    temp = pd.DataFrame()\n",
    "\n",
    "    temp['dates'] = pd.to_datetime(pd.Series(dates).apply(lambda x: x[1:-1]), format=\"%d.%m.%Y\")\n",
    "    temp['price'] = pd.Series(price).apply(lambda x: float(x))\n",
    "    temp['card'] = pd.Series([url.split('/')[-1] for i in range(temp.shape[0])])\n",
    "    df = pd.concat([df, temp])"
   ]
  }
 ],
 "metadata": {
  "kernelspec": {
   "display_name": "Python 3",
   "language": "python",
   "name": "python3"
  },
  "language_info": {
   "codemirror_mode": {
    "name": "ipython",
    "version": 3
   },
   "file_extension": ".py",
   "mimetype": "text/x-python",
   "name": "python",
   "nbconvert_exporter": "python",
   "pygments_lexer": "ipython3",
   "version": "3.7.6"
  }
 },
 "nbformat": 4,
 "nbformat_minor": 4
}

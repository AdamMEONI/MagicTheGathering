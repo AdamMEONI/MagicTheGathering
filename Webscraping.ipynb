{
 "cells": [
  {
   "cell_type": "code",
   "execution_count": 476,
   "metadata": {},
   "outputs": [],
   "source": [
    "from selenium import webdriver\n",
    "import bs4 as bs\n",
    "from bs4 import NavigableString \n",
    "import pandas as pd\n",
    "import urllib.request\n",
    "import numpy as np\n",
    "import time\n",
    "import mtgsdk"
   ]
  },
  {
   "cell_type": "markdown",
   "metadata": {},
   "source": [
    "## Get all expansion names from website\n",
    "----"
   ]
  },
  {
   "cell_type": "code",
   "execution_count": 390,
   "metadata": {},
   "outputs": [],
   "source": [
    "source = urllib.request.urlopen('https://www.cardmarket.com/en/Magic/Products/Singles').read()\n",
    "expansion_parent_soup = bs.BeautifulSoup(source,'lxml')"
   ]
  },
  {
   "cell_type": "code",
   "execution_count": 415,
   "metadata": {},
   "outputs": [
    {
     "data": {
      "text/plain": [
       "0        2005 Player Cards\n",
       "1        2006 Player Cards\n",
       "2        2007 Player Cards\n",
       "3      Aaron Miller Tokens\n",
       "4            Aether Revolt\n",
       "5    Aether Revolt: Promos\n",
       "6             Alara Reborn\n",
       "7                Alliances\n",
       "8                    Alpha\n",
       "9          ALRadeck Tokens\n",
       "dtype: object"
      ]
     },
     "execution_count": 415,
     "metadata": {},
     "output_type": "execute_result"
    }
   ],
   "source": [
    "def get_all_expansion_names(my_soup):\n",
    "    expansions = []\n",
    "    start=False\n",
    "    for option in my_soup.find_all('option'): \n",
    "        if start:\n",
    "            if option['value'] == \"1669\":\n",
    "                expansions.append(option.text)\n",
    "                break \n",
    "            else: \n",
    "                expansions.append(option.text)\n",
    "        if 'selected' in option.attrs and option['value'] == \"0\":\n",
    "            start = True\n",
    "    return pd.Series(expansions)\n",
    "\n",
    "expansions = get_all_expansion_names(expansion_parent_soup)\n",
    "expansions[:10]"
   ]
  },
  {
   "cell_type": "code",
   "execution_count": 416,
   "metadata": {},
   "outputs": [
    {
     "data": {
      "text/plain": [
       "(397,)"
      ]
     },
     "execution_count": 416,
     "metadata": {},
     "output_type": "execute_result"
    }
   ],
   "source": [
    "expansions.shape # Almost 400 expansions"
   ]
  },
  {
   "cell_type": "markdown",
   "metadata": {},
   "source": [
    "## Only get Commander specific expansions, and format the name to be URL ready\n",
    "----"
   ]
  },
  {
   "cell_type": "code",
   "execution_count": 432,
   "metadata": {},
   "outputs": [
    {
     "data": {
      "text/html": [
       "<div>\n",
       "<style scoped>\n",
       "    .dataframe tbody tr th:only-of-type {\n",
       "        vertical-align: middle;\n",
       "    }\n",
       "\n",
       "    .dataframe tbody tr th {\n",
       "        vertical-align: top;\n",
       "    }\n",
       "\n",
       "    .dataframe thead th {\n",
       "        text-align: right;\n",
       "    }\n",
       "</style>\n",
       "<table border=\"1\" class=\"dataframe\">\n",
       "  <thead>\n",
       "    <tr style=\"text-align: right;\">\n",
       "      <th></th>\n",
       "      <th>expansion_raw</th>\n",
       "      <th>expansion_formated</th>\n",
       "    </tr>\n",
       "  </thead>\n",
       "  <tbody>\n",
       "    <tr>\n",
       "      <th>49</th>\n",
       "      <td>Commander</td>\n",
       "      <td>Commander</td>\n",
       "    </tr>\n",
       "    <tr>\n",
       "      <th>50</th>\n",
       "      <td>Commander 2013</td>\n",
       "      <td>Commander-2013</td>\n",
       "    </tr>\n",
       "    <tr>\n",
       "      <th>51</th>\n",
       "      <td>Commander 2014</td>\n",
       "      <td>Commander-2014</td>\n",
       "    </tr>\n",
       "    <tr>\n",
       "      <th>52</th>\n",
       "      <td>Commander 2015</td>\n",
       "      <td>Commander-2015</td>\n",
       "    </tr>\n",
       "    <tr>\n",
       "      <th>53</th>\n",
       "      <td>Commander 2016</td>\n",
       "      <td>Commander-2016</td>\n",
       "    </tr>\n",
       "    <tr>\n",
       "      <th>54</th>\n",
       "      <td>Commander 2017</td>\n",
       "      <td>Commander-2017</td>\n",
       "    </tr>\n",
       "    <tr>\n",
       "      <th>55</th>\n",
       "      <td>Commander 2018</td>\n",
       "      <td>Commander-2018</td>\n",
       "    </tr>\n",
       "    <tr>\n",
       "      <th>56</th>\n",
       "      <td>Commander 2019</td>\n",
       "      <td>Commander-2019</td>\n",
       "    </tr>\n",
       "    <tr>\n",
       "      <th>57</th>\n",
       "      <td>Commander Anthology</td>\n",
       "      <td>Commander-Anthology</td>\n",
       "    </tr>\n",
       "    <tr>\n",
       "      <th>58</th>\n",
       "      <td>Commander Anthology II</td>\n",
       "      <td>Commander-Anthology-II</td>\n",
       "    </tr>\n",
       "    <tr>\n",
       "      <th>59</th>\n",
       "      <td>Commander: Ikoria</td>\n",
       "      <td>Commander-Ikoria</td>\n",
       "    </tr>\n",
       "    <tr>\n",
       "      <th>60</th>\n",
       "      <td>Commander's Arsenal</td>\n",
       "      <td>Commanders-Arsenal</td>\n",
       "    </tr>\n",
       "  </tbody>\n",
       "</table>\n",
       "</div>"
      ],
      "text/plain": [
       "             expansion_raw      expansion_formated\n",
       "49               Commander               Commander\n",
       "50          Commander 2013          Commander-2013\n",
       "51          Commander 2014          Commander-2014\n",
       "52          Commander 2015          Commander-2015\n",
       "53          Commander 2016          Commander-2016\n",
       "54          Commander 2017          Commander-2017\n",
       "55          Commander 2018          Commander-2018\n",
       "56          Commander 2019          Commander-2019\n",
       "57     Commander Anthology     Commander-Anthology\n",
       "58  Commander Anthology II  Commander-Anthology-II\n",
       "59       Commander: Ikoria        Commander-Ikoria\n",
       "60     Commander's Arsenal      Commanders-Arsenal"
      ]
     },
     "execution_count": 432,
     "metadata": {},
     "output_type": "execute_result"
    }
   ],
   "source": [
    "def format_url_extension(x):\n",
    "    x = x.replace(' ', '-')\n",
    "    x = x.replace(':', '')\n",
    "    return x.replace(\"\\'\", '')\n",
    "\n",
    "formated_commander_names = expansions[(expansions.str.find('Commander') != -1)].apply(format_url_extension)\n",
    "\n",
    "compare_formats = pd.DataFrame()\n",
    "compare_formats['expansion_raw'] = expansions[(expansions.str.find('Commander') != -1)]\n",
    "compare_formats['expansion_formated'] = formated_commander_names\n",
    "\n",
    "compare_formats"
   ]
  },
  {
   "cell_type": "code",
   "execution_count": 496,
   "metadata": {},
   "outputs": [],
   "source": [
    "def create_url_from_expansion(expansion, page=False):\n",
    "    base_url = \"https://www.cardmarket.com/en/Magic/Products/Singles/\"\n",
    "    if page: \n",
    "        end_url = '?idRarity=0&site='\n",
    "        return '{0}{1}{2}{3}'.format(base_url, expansion, end_url, page)\n",
    "    else:\n",
    "        end_url = \"?idRarity=0&perSite=20\"\n",
    "        return '{0}{1}{2}'.format(base_url, expansion, end_url)"
   ]
  },
  {
   "cell_type": "code",
   "execution_count": 497,
   "metadata": {},
   "outputs": [
    {
     "data": {
      "text/plain": [
       "'https://www.cardmarket.com/en/Magic/Products/Singles/Commanders-Arsenal?idRarity=0&perSite=20'"
      ]
     },
     "execution_count": 497,
     "metadata": {},
     "output_type": "execute_result"
    }
   ],
   "source": [
    "create_url_from_expansion(formated_commander_names[60])"
   ]
  },
  {
   "cell_type": "markdown",
   "metadata": {},
   "source": [
    "## Getting number of pages of a expansion\n",
    "----"
   ]
  },
  {
   "cell_type": "code",
   "execution_count": 501,
   "metadata": {},
   "outputs": [
    {
     "data": {
      "text/plain": [
       "19"
      ]
     },
     "execution_count": 501,
     "metadata": {},
     "output_type": "execute_result"
    }
   ],
   "source": [
    "expansion =  formated_commander_names[52]\n",
    "source = urllib.request.urlopen(create_url_from_expansion(expansion)).read()\n",
    "child_soup = bs.BeautifulSoup(source,'lxml')\n",
    "\n",
    "n_pages = int(np.ceil(int(child_soup.find_all('div', {\"class\":\"col-auto d-none d-md-block\"})[0].text.split(' ')[0]) / 20))\n",
    "n_pages"
   ]
  },
  {
   "cell_type": "code",
   "execution_count": 502,
   "metadata": {},
   "outputs": [],
   "source": [
    "urls = [create_url_from_expansion(expansion, page=page) for page in range(n_pages)]"
   ]
  },
  {
   "cell_type": "markdown",
   "metadata": {},
   "source": [
    "## Getting all links from all pages from an expansion"
   ]
  },
  {
   "cell_type": "code",
   "execution_count": 539,
   "metadata": {},
   "outputs": [],
   "source": [
    "all_links = []\n",
    "for url in urls:\n",
    "    source = urllib.request.urlopen(url).read()\n",
    "    soup = bs.BeautifulSoup(source, 'lxml')\n",
    "    links_of_page = []\n",
    "    for link in soup.find_all('a', href=True):\n",
    "        if expansion + '/' in link['href']: \n",
    "            links_of_page.append(\"https://www.cardmarket.com/\" + link['href'])\n",
    "    all_links.extend(links_of_page)"
   ]
  },
  {
   "cell_type": "markdown",
   "metadata": {},
   "source": [
    "## Getting all values "
   ]
  },
  {
   "cell_type": "code",
   "execution_count": 544,
   "metadata": {},
   "outputs": [],
   "source": [
    "df = pd.DataFrame()\n",
    "\n",
    "for link in all_links[:2]: \n",
    "    source = urllib.request.urlopen(link).read()\n",
    "    soup = bs.BeautifulSoup(source, 'lxml')\n",
    "    \n",
    "    first_chart_obj = soup.find_all('script',{'class':'chart-init-script'})[0]\n",
    "    readable_json_string = first_chart_obj.text.split(',', 1)[1].split('backgroundColor')[0][:-2] + \"}]}}\"\n",
    "\n",
    "    temp = pd.DataFrame()\n",
    "    temp['dates'] = json.loads(readable_json_string)['data']['labels']\n",
    "    temp['prices'] = json.loads(readable_json_string)['data']['datasets'][0]['data']\n",
    "    temp['card'] = pd.Series([link.split('/')[-1] for i in range(temp.shape[0])])\n",
    "    df = pd.concat([df, temp])"
   ]
  },
  {
   "cell_type": "code",
   "execution_count": 557,
   "metadata": {},
   "outputs": [],
   "source": [
    "def get_data_for_expansion(expansion):\n",
    "    ## Basically all the operations are above, this is just getting everything in one function \n",
    "    ## Ables you to get a 30 day range of prices for all the cards of the above expansion (the string has to be well formatted)\n",
    "    \n",
    "    source = urllib.request.urlopen(create_url_from_expansion(expansion)).read()\n",
    "    child_soup = bs.BeautifulSoup(source,'lxml')\n",
    "\n",
    "    n_pages = int(np.ceil(int(child_soup.find_all('div', {\"class\":\"col-auto d-none d-md-block\"})[0].text.split(' ')[0]) / 20))\n",
    "    \n",
    "    urls = [create_url_from_expansion(expansion, page=page) for page in range(n_pages)]\n",
    "    \n",
    "    all_links = []\n",
    "    for url in urls:\n",
    "        source = urllib.request.urlopen(url).read()\n",
    "        soup = bs.BeautifulSoup(source, 'lxml')\n",
    "        links_of_page = []\n",
    "        for link in soup.find_all('a', href=True):\n",
    "            if expansion + '/' in link['href']: \n",
    "                links_of_page.append(\"https://www.cardmarket.com/\" + link['href'])\n",
    "        all_links.extend(links_of_page)\n",
    "        \n",
    "    df = pd.DataFrame()\n",
    "\n",
    "    for link in all_links: \n",
    "        source = urllib.request.urlopen(link).read()\n",
    "        soup = bs.BeautifulSoup(source, 'lxml')\n",
    "\n",
    "        first_chart_obj = soup.find_all('script',{'class':'chart-init-script'})[0]\n",
    "        readable_json_string = first_chart_obj.text.split(',', 1)[1].split('backgroundColor')[0][:-2] + \"}]}}\"\n",
    "\n",
    "        temp = pd.DataFrame()\n",
    "        temp['dates'] = json.loads(readable_json_string)['data']['labels']\n",
    "        temp['prices'] = json.loads(readable_json_string)['data']['datasets'][0]['data']\n",
    "        temp['card'] = pd.Series([link.split('/')[-1] for i in range(temp.shape[0])])\n",
    "        df = pd.concat([df, temp])\n",
    "    \n",
    "    return df"
   ]
  },
  {
   "cell_type": "code",
   "execution_count": 565,
   "metadata": {},
   "outputs": [
    {
     "data": {
      "text/plain": [
       "49                 Commander\n",
       "50            Commander-2013\n",
       "51            Commander-2014\n",
       "52            Commander-2015\n",
       "53            Commander-2016\n",
       "54            Commander-2017\n",
       "55            Commander-2018\n",
       "56            Commander-2019\n",
       "57       Commander-Anthology\n",
       "58    Commander-Anthology-II\n",
       "59          Commander-Ikoria\n",
       "60        Commanders-Arsenal\n",
       "dtype: object"
      ]
     },
     "execution_count": 565,
     "metadata": {},
     "output_type": "execute_result"
    }
   ],
   "source": [
    "formated_commander_names"
   ]
  },
  {
   "cell_type": "code",
   "execution_count": 571,
   "metadata": {},
   "outputs": [],
   "source": [
    "t1 = time.time()\n",
    "\n",
    "df = pd.DataFrame()\n",
    "\n",
    "for expansion in formated_commander_names[2:]:\n",
    "    temp = get_data_for_expansion(expansion)\n",
    "    temp['expansion'] = [expansion for i in range(temp.shape[0])]\n",
    "    \n",
    "    df = pd.concat([df, temp])\n",
    "\n",
    "t2 = time.time()"
   ]
  },
  {
   "cell_type": "code",
   "execution_count": 588,
   "metadata": {},
   "outputs": [
    {
     "data": {
      "text/plain": [
       "49         Commander\n",
       "50    Commander-2013\n",
       "dtype: object"
      ]
     },
     "execution_count": 588,
     "metadata": {},
     "output_type": "execute_result"
    }
   ],
   "source": [
    "formated_commander_names[:2]"
   ]
  },
  {
   "cell_type": "code",
   "execution_count": 583,
   "metadata": {},
   "outputs": [
    {
     "data": {
      "text/plain": [
       "51            Commander-2014\n",
       "52            Commander-2015\n",
       "53            Commander-2016\n",
       "54            Commander-2017\n",
       "55            Commander-2018\n",
       "56            Commander-2019\n",
       "57       Commander-Anthology\n",
       "58    Commander-Anthology-II\n",
       "59          Commander-Ikoria\n",
       "60        Commanders-Arsenal\n",
       "dtype: object"
      ]
     },
     "execution_count": 583,
     "metadata": {},
     "output_type": "execute_result"
    }
   ],
   "source": [
    "formated_commander_names[2:]"
   ]
  },
  {
   "cell_type": "code",
   "execution_count": 572,
   "metadata": {
    "scrolled": false
   },
   "outputs": [
    {
     "data": {
      "text/plain": [
       "11.01252188262504"
      ]
     },
     "execution_count": 572,
     "metadata": {},
     "output_type": "execute_result"
    }
   ],
   "source": [
    "(t2 - t1) / len(df['card'].unique()) # 11 seconde pour avoir l'info d'une carte "
   ]
  },
  {
   "cell_type": "code",
   "execution_count": 581,
   "metadata": {},
   "outputs": [],
   "source": [
    "df.to_csv('./Data/CardPricePull_05-20.csv', index=False)"
   ]
  }
 ],
 "metadata": {
  "kernelspec": {
   "display_name": "Python 3",
   "language": "python",
   "name": "python3"
  },
  "language_info": {
   "codemirror_mode": {
    "name": "ipython",
    "version": 3
   },
   "file_extension": ".py",
   "mimetype": "text/x-python",
   "name": "python",
   "nbconvert_exporter": "python",
   "pygments_lexer": "ipython3",
   "version": "3.7.6"
  }
 },
 "nbformat": 4,
 "nbformat_minor": 4
}
